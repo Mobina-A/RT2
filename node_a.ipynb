{
 "cells": [
  {
   "cell_type": "code",
   "execution_count": 1,
   "id": "2bb80901",
   "metadata": {},
   "outputs": [],
   "source": [
    "import jupyros as jr\n",
    "import rospy\n",
    "import actionlib\n",
    "import actionlib.msg\n",
    "import assignment_2_2023\n",
    "import assignment_2_2023.msg\n",
    "import numpy as np\n",
    "import ipywidgets as widgets\n",
    "import matplotlib.pyplot as plt\n",
    "\n",
    "from std_srvs.srv import *\n",
    "from geometry_msgs.msg import Point, Pose, Twist\n",
    "from nav_msgs.msg import Odometry\n",
    "from assignment_2_2023.msg import pos_vel\n",
    "from sensor_msgs.msg import LaserScan\n",
    "from matplotlib.animation import FuncAnimation\n",
    "\n",
    "%matplotlib widget"
   ]
  },
  {
   "cell_type": "code",
   "execution_count": 2,
   "id": "3d458597",
   "metadata": {},
   "outputs": [],
   "source": [
    "#define parameters\n",
    "my_data = pos_vel()\n",
    "target_reached = 0\n",
    "target_cancelled = 0 \n",
    "cancelled = False \n",
    "target = None"
   ]
  },
  {
   "cell_type": "code",
   "execution_count": 3,
   "id": "1760d84d",
   "metadata": {},
   "outputs": [],
   "source": [
    "def callback(data):\n",
    "   \n",
    "    global pub, my_data\n",
    "    my_data.y = data.pose.pose.position.y\n",
    "    my_data.vel_x = data.twist.twist.linear.x\n",
    "    my_data.vel_z = data.twist.twist.linear.z\n",
    "  \n",
    "    pub.publish(my_data)"
   ]
  },
  {
   "cell_type": "code",
   "execution_count": 4,
   "id": "e33deb3b",
   "metadata": {},
   "outputs": [],
   "source": [
    "#laser callback\n",
    "def laser_callback(msg):\n",
    "    global last_laser\n",
    "    initial_loc = len(msg.ranges) // 2 - (len(msg.ranges) // 4)\n",
    "    end_loc = len(msg.ranges) // 2 + (len(msg.ranges) // 4)\n",
    "    ranges = msg.ranges[initial_loc:end_loc]\n",
    "    min_dist = min(ranges)"
   ]
  },
  {
   "cell_type": "code",
   "execution_count": 5,
   "id": "982e0299",
   "metadata": {},
   "outputs": [],
   "source": [
    "#Creating button state and style\n",
    "\n",
    "set_target_button_style = {'button_color': 'lightgreen'}\n",
    "cancel_target_button_style = {'button_color': 'lightcoral'}\n",
    "\n",
    "set_target_button = widgets.Button(value=False, description=\"Set Target\",\n",
    "                                   disabled=False, style=set_target_button_style)\n",
    "cancel_target_button = widgets.Button(value=False, description=\"Cancel Target\",\n",
    "                                      disabled=False, style=cancel_target_button_style)"
   ]
  },
  {
   "cell_type": "code",
   "execution_count": 6,
   "id": "7e1ac176",
   "metadata": {},
   "outputs": [],
   "source": [
    "#Convert button input\n",
    "x = widgets.BoundedFloatText(value=0.0, description='x', min=-9.0, max=9.0,\n",
    "                              style={'description_width': 'initial'}, step=0.1,\n",
    "                              layout=widgets.Layout(width='100px'))\n",
    "y = widgets.BoundedFloatText(value=0.0, description='y', min=-9.0, max=9.0,\n",
    "                              style={'description_width': 'initial'}, step=0.1,\n",
    "                              layout=widgets.Layout(width='100px'))\n"
   ]
  },
  {
   "cell_type": "code",
   "execution_count": 7,
   "id": "95b5a6d5",
   "metadata": {},
   "outputs": [],
   "source": [
    "def callback_send(msg):\n",
    "    global cancelled, target\n",
    "    target = assignment_2_2023.msg.PlanningGoal()\n",
    "    target.target_pose.pose.position.x = x.value\n",
    "    target.target_pose.pose.position.y = y.value\n",
    "    cancelled = False\n",
    "    client.send_goal(target)"
   ]
  },
  {
   "cell_type": "code",
   "execution_count": 8,
   "id": "029cc9c9",
   "metadata": {},
   "outputs": [],
   "source": [
    "def callback_cancel(msg):\n",
    "    global cancelled, target\n",
    "    target = None\n",
    "    cancelled = True\n",
    "    client.cancel_goal()"
   ]
  },
  {
   "cell_type": "code",
   "execution_count": 9,
   "id": "1beedb08",
   "metadata": {},
   "outputs": [],
   "source": [
    "set_target_button.on_click(callback_send)\n",
    "cancel_target_button.on_click(callback_cancel)"
   ]
  },
  {
   "cell_type": "markdown",
   "id": "af4e42a9",
   "metadata": {},
   "source": [
    "## Position Visualization:"
   ]
  },
  {
   "cell_type": "code",
   "execution_count": 10,
   "id": "26568ea9",
   "metadata": {},
   "outputs": [],
   "source": [
    "class Odom_Interface:\n",
    "    def __init__(self):\n",
    "        self.fig_odom, self.ax = plt.subplots()\n",
    "        # Robot Position Plot\n",
    "        self.ln, = plt.plot([], [], 'bo', label='Robot Position')  # Blue empty circle\n",
    "        # Target's Position Plot\n",
    "        self.goal_ln, = plt.plot([], [], 'g*', markersize=10, label='Robot Goal Position')  # Green star\n",
    "        # Robot's Path Plot\n",
    "        self.path_ln, = plt.plot([], [], 'b', label='Robot Path')  # Blue line\n",
    "        # Robot's Position Data Arrays\n",
    "        self.x_data, self.y_data = [], []\n",
    "        self.path_x, self.path_y = [], []\n",
    "\n",
    "    def plot_init(self):\n",
    "        # Set Plot Title\n",
    "        self.ax.set_title(\"Robot Odometry\", fontsize=20, fontweight='bold')\n",
    "        # Set Plot Axis Labels\n",
    "        self.ax.set_xlabel(\"X [m]\", fontsize=10, fontweight=\"bold\")\n",
    "        self.ax.set_ylabel(\"Y [m]\", fontsize=10, fontweight=\"bold\")\n",
    "        # Set Plot Axis Limits\n",
    "        self.ax.set_xlim(-20, 20)\n",
    "        self.ax.set_ylim(-20, 20)\n",
    "        # Set Grid to True\n",
    "        self.ax.grid(True)\n",
    "        return self.ln, self.goal_ln, self.path_ln\n",
    "\n",
    "    def odom_callback(self, msg):\n",
    "        # Callback Function used to update data\n",
    "        self.y_data.append(msg.pose.pose.position.y)\n",
    "        self.x_data.append(msg.pose.pose.position.x)\n",
    "        # Add current position to the path\n",
    "        self.path_x.append(msg.pose.pose.position.x)\n",
    "        self.path_y.append(msg.pose.pose.position.y)\n",
    "\n",
    "    def update_plot(self, frame):\n",
    "        # Update Robot's Position on plot\n",
    "        self.ln.set_data(self.x_data[-1], self.y_data[-1])\n",
    "\n",
    "        if cancelled:\n",
    "            # Show position with a red full circle if cancelled\n",
    "            self.goal_ln.set_data(self.x_data[-1], self.y_data[-1])\n",
    "            self.goal_ln.set_marker('o')  # Full circle\n",
    "            self.goal_ln.set_color('red')  # Red color\n",
    "        elif target is not None:\n",
    "            # Show the final position with a green star\n",
    "            self.goal_ln.set_data(target.target_pose.pose.position.x, target.target_pose.pose.position.y)\n",
    "            self.goal_ln.set_marker('*')  # Star shape\n",
    "            self.goal_ln.set_color('green')  # Green color\n",
    "        else:\n",
    "            self.goal_ln.set_data([], [])\n",
    "\n",
    "        # Update Robot's Path on plot\n",
    "        self.path_ln.set_data(self.path_x, self.path_y)\n",
    "\n",
    "        return self.ln, self.goal_ln, self.path_ln\n"
   ]
  },
  {
   "cell_type": "markdown",
   "id": "a97988f1",
   "metadata": {},
   "source": [
    "## Number of Reached/Cancelled Goals Visualization:"
   ]
  },
  {
   "cell_type": "code",
   "execution_count": 11,
   "id": "92c8a6ca",
   "metadata": {},
   "outputs": [],
   "source": [
    "class Goal_Interface:\n",
    "    def __init__(self):\n",
    "        self.fig, self.ax = plt.subplots()\n",
    "        # Setting up the values\n",
    "        self.reached = 0\n",
    "        self.cancelled = 0\n",
    "        # Set Plot Title\n",
    "        self.ax.set_title(\"Reached/Cancelled Goals\", fontsize=20, fontweight=\"bold\")\n",
    "\n",
    "        self.ax.grid(axis='y', color='grey', linestyle='-', alpha=0.5)\n",
    "        # Set Plot Labels on x-axis\n",
    "        self.labels = ('Reached', 'Cancelled')\n",
    "        self.x_pos = np.arange(len(self.labels))\n",
    "        self.ax.set_xticks(self.x_pos)\n",
    "        self.ax.set_xticklabels(self.labels)\n",
    "        # Set Plot Axis Limits\n",
    "        self.ax.set_ylim([0, 20])\n",
    "        self.ax.set_yticks(np.arange(0, 21, 1))\n",
    "        self.bar_colors = ['lightgreen', 'lightcoral']\n",
    "        self.bar_plot = self.ax.bar(self.x_pos, [self.reached, self.cancelled], align='center', color=self.bar_colors, width=1)\n",
    "\n",
    "    def goal_callback(self, msg):\n",
    "        # Get the number of reached/cancelled goals\n",
    "        global target_reached, target_cancelled\n",
    "        if msg.status.status == 3:\n",
    "            self.reached += 1\n",
    "        elif msg.status.status == 2:\n",
    "            self.cancelled += 1\n",
    "\n",
    "    def update_plot(self, frame):\n",
    "        self.green_val = np.random.randint(0, 100)\n",
    "        self.red_val = np.random.randint(0, 100)\n",
    "\n",
    "        for i, bar in enumerate(self.bar_plot):\n",
    "            if i == 0:\n",
    "                bar.set_height(self.reached)\n",
    "            else:\n",
    "                bar.set_height(self.cancelled)\n",
    "            bar.set_color(self.bar_colors[i])\n",
    "        return self.bar_plot"
   ]
  },
  {
   "cell_type": "markdown",
   "id": "76a6f7c6",
   "metadata": {},
   "source": [
    "## Initialize the Node:"
   ]
  },
  {
   "cell_type": "code",
   "execution_count": 12,
   "id": "542d5f49",
   "metadata": {},
   "outputs": [
    {
     "data": {
      "text/plain": [
       "True"
      ]
     },
     "execution_count": 12,
     "metadata": {},
     "output_type": "execute_result"
    }
   ],
   "source": [
    "rospy.init_node('jupyter_notebook')\n",
    "pub = rospy.Publisher(\"/pos_vel\", pos_vel, queue_size=1)\n",
    "client = actionlib.SimpleActionClient('/reaching_goal', assignment_2_2023.msg.PlanningAction)\n",
    "client.wait_for_server()"
   ]
  },
  {
   "cell_type": "markdown",
   "id": "9a892445",
   "metadata": {},
   "source": [
    "# Main:"
   ]
  },
  {
   "cell_type": "markdown",
   "id": "a0576d82",
   "metadata": {},
   "source": [
    "## Set target position:"
   ]
  },
  {
   "cell_type": "code",
   "execution_count": 13,
   "id": "9a217165",
   "metadata": {},
   "outputs": [
    {
     "data": {
      "application/vnd.jupyter.widget-view+json": {
       "model_id": "6b73684b9f174ce695007c970794ae96",
       "version_major": 2,
       "version_minor": 0
      },
      "text/plain": [
       "HBox(children=(BoundedFloatText(value=0.0, description='x', layout=Layout(width='100px'), max=9.0, min=-9.0, s…"
      ]
     },
     "metadata": {},
     "output_type": "display_data"
    },
    {
     "data": {
      "application/vnd.jupyter.widget-view+json": {
       "model_id": "0e204a71d9844dd8a7a5b79bfff55f8a",
       "version_major": 2,
       "version_minor": 0
      },
      "text/plain": [
       "HBox(children=(Button(description='Set Target', style=ButtonStyle(button_color='lightgreen')), Button(descript…"
      ]
     },
     "metadata": {},
     "output_type": "display_data"
    }
   ],
   "source": [
    "display(widgets.HBox([x, y]))\n",
    "display(widgets.HBox([set_target_button, cancel_target_button]))"
   ]
  },
  {
   "cell_type": "code",
   "execution_count": 14,
   "id": "b6f000de",
   "metadata": {
    "scrolled": true
   },
   "outputs": [
    {
     "data": {
      "application/vnd.jupyter.widget-view+json": {
       "model_id": "121b67d222ca4937bab5c3e398d1d996",
       "version_major": 2,
       "version_minor": 0
      },
      "text/plain": [
       "Canvas(toolbar=Toolbar(toolitems=[('Home', 'Reset original view', 'home', 'home'), ('Back', 'Back to previous …"
      ]
     },
     "metadata": {},
     "output_type": "display_data"
    }
   ],
   "source": [
    "visualize_goals = Goal_Interface()\n",
    "results = rospy.Subscriber('/reaching_goal/result', assignment_2_2023.msg.PlanningActionResult, visualize_goals.goal_callback)\n",
    "\n",
    "animation_goal = FuncAnimation(visualize_goals.fig, visualize_goals.update_plot, interval=1000)\n",
    "plt.show(block=True)"
   ]
  },
  {
   "cell_type": "markdown",
   "id": "9d9493ae",
   "metadata": {},
   "source": [
    "## Plot robot position:"
   ]
  },
  {
   "cell_type": "code",
   "execution_count": 15,
   "id": "b326134b",
   "metadata": {},
   "outputs": [
    {
     "data": {
      "application/vnd.jupyter.widget-view+json": {
       "model_id": "950e8da3049645e8bc0ad7f0f994d038",
       "version_major": 2,
       "version_minor": 0
      },
      "text/plain": [
       "Canvas(toolbar=Toolbar(toolitems=[('Home', 'Reset original view', 'home', 'home'), ('Back', 'Back to previous …"
      ]
     },
     "metadata": {},
     "output_type": "display_data"
    }
   ],
   "source": [
    "position_visualizer = Odom_Interface()\n",
    "sub = rospy.Subscriber('/odom', Odometry, position_visualizer.odom_callback)\n",
    "\n",
    "animation_pos = FuncAnimation(position_visualizer.fig_odom, position_visualizer.update_plot, init_func=position_visualizer.plot_init)\n",
    "plt.show(block=True)"
   ]
  },
  {
   "cell_type": "code",
   "execution_count": null,
   "id": "152995cb",
   "metadata": {},
   "outputs": [],
   "source": []
  }
 ],
 "metadata": {
  "kernelspec": {
   "display_name": "Python 3 (ipykernel)",
   "language": "python",
   "name": "python3"
  },
  "language_info": {
   "codemirror_mode": {
    "name": "ipython",
    "version": 3
   },
   "file_extension": ".py",
   "mimetype": "text/x-python",
   "name": "python",
   "nbconvert_exporter": "python",
   "pygments_lexer": "ipython3",
   "version": "3.8.5"
  }
 },
 "nbformat": 4,
 "nbformat_minor": 5
}
