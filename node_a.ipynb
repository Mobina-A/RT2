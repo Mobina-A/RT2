{
 "cells": [
  {
   "cell_type": "code",
   "execution_count": 1,
   "id": "0a661f8f",
   "metadata": {},
   "outputs": [
    {
     "ename": "ImportError",
     "evalue": "cannot import name 'pos_vel' from 'assignment_2_2023.msg' (unknown location)",
     "output_type": "error",
     "traceback": [
      "\u001b[0;31m---------------------------------------------------------------------------\u001b[0m",
      "\u001b[0;31mImportError\u001b[0m                               Traceback (most recent call last)",
      "\u001b[0;32m/tmp/ipykernel_835/4207003777.py\u001b[0m in \u001b[0;36m<module>\u001b[0;34m\u001b[0m\n\u001b[1;32m     13\u001b[0m \u001b[0;32mfrom\u001b[0m \u001b[0mgeometry_msgs\u001b[0m\u001b[0;34m.\u001b[0m\u001b[0mmsg\u001b[0m \u001b[0;32mimport\u001b[0m \u001b[0mPoint\u001b[0m\u001b[0;34m,\u001b[0m \u001b[0mPose\u001b[0m\u001b[0;34m,\u001b[0m \u001b[0mTwist\u001b[0m\u001b[0;34m\u001b[0m\u001b[0;34m\u001b[0m\u001b[0m\n\u001b[1;32m     14\u001b[0m \u001b[0;32mfrom\u001b[0m \u001b[0mnav_msgs\u001b[0m\u001b[0;34m.\u001b[0m\u001b[0mmsg\u001b[0m \u001b[0;32mimport\u001b[0m \u001b[0mOdometry\u001b[0m\u001b[0;34m\u001b[0m\u001b[0;34m\u001b[0m\u001b[0m\n\u001b[0;32m---> 15\u001b[0;31m \u001b[0;32mfrom\u001b[0m \u001b[0massignment_2_2023\u001b[0m\u001b[0;34m.\u001b[0m\u001b[0mmsg\u001b[0m \u001b[0;32mimport\u001b[0m \u001b[0mpos_vel\u001b[0m\u001b[0;34m\u001b[0m\u001b[0;34m\u001b[0m\u001b[0m\n\u001b[0m\u001b[1;32m     16\u001b[0m \u001b[0;31m#from sensor_msgs.msg import LaserScan\u001b[0m\u001b[0;34m\u001b[0m\u001b[0;34m\u001b[0m\u001b[0;34m\u001b[0m\u001b[0m\n\u001b[1;32m     17\u001b[0m \u001b[0;32mfrom\u001b[0m \u001b[0mmatplotlib\u001b[0m\u001b[0;34m.\u001b[0m\u001b[0manimation\u001b[0m \u001b[0;32mimport\u001b[0m \u001b[0mFuncAnimation\u001b[0m\u001b[0;34m\u001b[0m\u001b[0;34m\u001b[0m\u001b[0m\n",
      "\u001b[0;31mImportError\u001b[0m: cannot import name 'pos_vel' from 'assignment_2_2023.msg' (unknown location)"
     ]
    }
   ],
   "source": [
    "import jupyros as jr\n",
    "import rospy\n",
    "import os\n",
    "import actionlib\n",
    "import actionlib.msg\n",
    "import assignment_2_2023\n",
    "import assignment_2_2023.msg\n",
    "import numpy as np\n",
    "import ipywidgets as widgets\n",
    "import matplotlib.pyplot as plt\n",
    "\n",
    "from std_srvs.srv import *\n",
    "from geometry_msgs.msg import Point, Pose, Twist\n",
    "from nav_msgs.msg import Odometry\n",
    "from assignment_2_2023.msg import pos_vel\n",
    "#from sensor_msgs.msg import LaserScan\n",
    "from matplotlib.animation import FuncAnimation"
   ]
  },
  {
   "cell_type": "code",
   "execution_count": null,
   "id": "c1e89dfb",
   "metadata": {},
   "outputs": [],
   "source": [
    "#define parameters\n",
    "#target_reached = 0\n",
    "#target_cancelled = 0 \n",
    "#cancelled = False \n",
    "#target = None\n",
    "my_data = pos_vel()\n"
   ]
  },
  {
   "cell_type": "code",
   "execution_count": null,
   "id": "2cb9daa0",
   "metadata": {},
   "outputs": [],
   "source": [
    "def callback(data):\n",
    "   \n",
    "    global pub\n",
    "    # Create a custom message for having the location and velocities my_data = pos_vel()\n",
    "    # Use the message to set the robot position and linear velocity\n",
    "    my_data.x = data.pose.pose.position.x\n",
    "    my_data.y = data.pose.pose.position.y\n",
    "    my_data.vel_x = data.twist.twist.linear.x\n",
    "    my_data.vel_z = data.twist.twist.linear.z\n",
    "    # Publish the message\n",
    "    pub.publish(my_data)"
   ]
  },
  {
   "cell_type": "code",
   "execution_count": null,
   "id": "32e142ef",
   "metadata": {},
   "outputs": [],
   "source": [
    "#Creating button state\n",
    "set_target_button = widgets.Button(value=False, description=\"Set Target\",\n",
    "                                   disabled=False, button_style='')\n",
    "cancel_target_button = widgets.Button(value=False, description=\"Cancel Target\",\n",
    "                                     disabled=False, button_style='')"
   ]
  },
  {
   "cell_type": "code",
   "execution_count": null,
   "id": "84dc1e0c",
   "metadata": {},
   "outputs": [],
   "source": [
    "#Convert button input\n",
    "x = widgets.BoundedFloatText(value=0.0, description='x', min=-9.0, max=9.0,\n",
    "                              style={'description_width': 'initial'}, step=0.1,\n",
    "                              layout=widgets.Layout(width='100px'))\n",
    "y = widgets.BoundedFloatText(value=0.0, description='y', min=-9.0, max=9.0,\n",
    "                              style={'description_width': 'initial'}, step=0.1,\n",
    "                              layout=widgets.Layout(width='100px'))\n",
    "\n"
   ]
  },
  {
   "cell_type": "code",
   "execution_count": null,
   "id": "ddd21efc",
   "metadata": {},
   "outputs": [],
   "source": [
    "def callback_dis(msg):\n",
    "    global last_dis\n",
    "    initial_loc = len(msg.ranges) // 2 - (len(msg.ranges) // 4)\n",
    "    end_loc = len(msg.ranges) // 2 + (len(msg.ranges) // 4)\n",
    "    ranges = msg.ranges[initial_loc:end_loc]\n",
    "    min_dis = min(ranges)"
   ]
  },
  {
   "cell_type": "code",
   "execution_count": null,
   "id": "38c40169",
   "metadata": {},
   "outputs": [],
   "source": [
    "def callback_Target(msg):\n",
    "    global cancelled, target\n",
    "    #target = assignment_2_2023.msg.PlanningGoal()\n",
    "    #trget.target_pose.pose.position.x = x.value\n",
    "    #target.target_pose.pose.position.y = y.value\n",
    "    cancelled = False\n",
    "    #client.send_goal(target)"
   ]
  },
  {
   "cell_type": "code",
   "execution_count": null,
   "id": "1c6b43c9",
   "metadata": {},
   "outputs": [],
   "source": [
    "send_goal_button.on_click(callback_send)\n",
    "cancel_goal_button.on_click(callback_cancel)"
   ]
  },
  {
   "cell_type": "markdown",
   "id": "80294c62",
   "metadata": {},
   "source": [
    "## Pos_visual:"
   ]
  },
  {
   "cell_type": "code",
   "execution_count": null,
   "id": "6ef30c08",
   "metadata": {},
   "outputs": [],
   "source": [
    "class Odom_Visualizer:\n",
    "    def __init__(self):\n",
    "        self.fig_odom, self.ax = plt.subplots()\n",
    "        # Robot Position Plot\n",
    "        self.ln, = plt.plot([], [], 'ro', label = 'Robot Position')\n",
    "        # Target's Position Plot\n",
    "        self.goal_ln, = plt.plot([], [], 'b*', markersize = 10, label = 'Robot Goal Position')\n",
    "        # Robot's Position Data Arrays\n",
    "        self.x_data, self.y_data = [], []\n",
    "        \n",
    "    def plot_init(self):\n",
    "        # Set Plot Title\n",
    "        self.ax.set_title(\"Robot Odometry\", fontsize = 20, fontweight = 'bold')\n",
    "        # Set Plot Axis Labels\n",
    "        self.ax.set_xlabel(\"X [m]\", fontsize = 10, fontweight = \"bold\")\n",
    "        self.ax.set_ylabel(\"Y [m]\", fontsize = 10, fontweight = \"bold\")\n",
    "        # Set Plot Axis Limits\n",
    "        self.ax.set_xlim(-20, 20)\n",
    "        self.ax.set_ylim(-20, 20)\n",
    "        # Set Grid to True\n",
    "        self.ax.grid(True)\n",
    "        return self.ln, self.goal_ln\n",
    "    \n",
    "    def odom_callback(self, msg):\n",
    "        # Callback Function used to update data\n",
    "        self.y_data.append(msg.pose.pose.position.y)\n",
    "        self.x_data.append(msg.pose.pose.position.x)         \n",
    "    \n",
    "    def update_plot(self, frame):\n",
    "        # Update Robot's Position on plot\n",
    "        self.ln.set_data(self.x_data, self.y_data)  \n",
    "        \n",
    "        if cancelled: \n",
    "            self.goal_ln.set_data([], [])\n",
    "        elif goal is not None:\n",
    "            self.goal_ln.set_data(goal.target_pose.pose.position.x, goal.target_pose.pose.position.y)\n",
    "        else:\n",
    "            self.goal_ln.set_data([], [])\n",
    "        \n",
    "        return self.ln, self.goal_ln"
   ]
  },
  {
   "cell_type": "code",
   "execution_count": null,
   "id": "c0de27e6",
   "metadata": {},
   "outputs": [],
   "source": [
    "class Goal_Visualizer:\n",
    "    def __init__(self):\n",
    "        self.fig, self.ax = plt.subplots()\n",
    "        # Setting up the values\n",
    "        self.reached = 0\n",
    "        self.cancelled = 0\n",
    "        # Set Plot Title\n",
    "        self.ax.set_title(\"Reached/Cancelled Goals\", fontsize = 20, fontweight = \"bold\")\n",
    "        \n",
    "        self.ax.grid(axis = 'y', color = 'grey', linestyle = '-', alpha = 0.5)\n",
    "        # Set Plot Labels on x-axis\n",
    "        self.labels = ('Reached', 'Cancelled')\n",
    "        self.x_pos = np.arange(len(self.labels))\n",
    "        self.ax.set_xticks(self.x_pos)\n",
    "        self.ax.set_xticklabels(self.labels)\n",
    "        # Set Plot Axis Limits\n",
    "        self.ax.set_ylim([0, 10])\n",
    "        self.ax.set_yticks(np.arange(0, 11, 1))\n",
    "        self.bar_colors = ['green', 'red']\n",
    "        self.bar_plot = self.ax.bar(self.x_pos, [self.reached, self.cancelled], align = 'center', color = self.bar_colors, width = 0.2)\n",
    "\n",
    "    def goal_callback(self, msg):\n",
    "        # Get the number of reached/cancelled goals\n",
    "        global goals_cancelled, goals_reached\n",
    "        if msg.status.status == 3:\n",
    "            self.reached += 1\n",
    "        elif msg.status.status == 2:\n",
    "            self.cancelled += 1 \n",
    "            \n",
    "    def update_plot(self, frame):\n",
    "        self.green_val = np.random.randint(0,100)\n",
    "        self.red_val = np.random.randint(0,100)\n",
    "        \n",
    "        for i, bar in enumerate(self.bar_plot):\n",
    "            if i == 0:\n",
    "                bar.set_height(self.reached)\n",
    "            else:\n",
    "                bar.set_height(self.cancelled)\n",
    "            bar.set_color(self.bar_colors[i])\n",
    "        return self.bar_plot"
   ]
  },
  {
   "cell_type": "markdown",
   "id": "06914ae9",
   "metadata": {},
   "source": [
    "## Plot"
   ]
  },
  {
   "cell_type": "code",
   "execution_count": null,
   "id": "8f4dd03d",
   "metadata": {},
   "outputs": [],
   "source": [
    "class Laser_Visualizer:\n",
    "    def __init__(self):\n",
    "        self.fig = plt.figure(figsize = (6,6))\n",
    "        self.ax = plt.subplot(111, polar = True)\n",
    "        self.ax.set_thetalim(-np.pi/2, np.pi/2)\n",
    "        self.ax.set_theta_zero_location(\"N\")\n",
    "        self.laser = []\n",
    "        self.angles = []\n",
    "        self.ln, = self.ax.plot([], [], 'bo')\n",
    "        \n",
    "    def plot_init(self):\n",
    "        # Set Plot Title\n",
    "        self.ax.set_title(\"Robot Laser Scan\", fontsize = 20, fontweight = 'bold')\n",
    "        # Set Plot Y Label\n",
    "        self.ax.set_ylabel(\"Wall Distance\", fontsize = 10, fontweight = \"bold\")\n",
    "        # Set Grid to True\n",
    "        self.ax.grid(True)\n",
    "        return self.ln\n",
    "    \n",
    "    def laser_callback(self, msg):\n",
    "        # Callback Function used to update data\n",
    "        self.angles = list(np.arange(msg.angle_min, msg.angle_max + msg.angle_increment, msg.angle_increment))\n",
    "        self.laser = list(msg.ranges)\n",
    "        \n",
    "    def update_plot(self, frame):\n",
    "        self.ax.set_rmax(20)\n",
    "        self.ln.set_data(self.angles, self.laser)  \n",
    "        return self.ln"
   ]
  },
  {
   "cell_type": "code",
   "execution_count": null,
   "id": "18877e0c",
   "metadata": {},
   "outputs": [],
   "source": [
    "rospy.init_node('jupyter_notebook')\n",
    "pub = rospy.Publisher(\"/pos_vel\", RobotMsg, queue_size = 1)\n",
    "client = actionlib.SimpleActionClient('/reaching_goal', assignment_2_2022.msg.PlanningAction)\n",
    "client.wait_for_server()"
   ]
  },
  {
   "cell_type": "markdown",
   "id": "07e9c48d",
   "metadata": {},
   "source": [
    "## Main"
   ]
  },
  {
   "cell_type": "code",
   "execution_count": null,
   "id": "442c8f47",
   "metadata": {},
   "outputs": [],
   "source": [
    "display(widgets.HBox([x, y]))\n",
    "display(widgets.HBox([send_goal_button, cancel_goal_button]))"
   ]
  },
  {
   "cell_type": "code",
   "execution_count": null,
   "id": "5be1b31a",
   "metadata": {},
   "outputs": [],
   "source": [
    "last_odom = 0\n",
    "jr.subscribe('/odom', Odometry, callback_odom)\n",
    "\n",
    "last_laser = 0\n",
    "jr.subscribe('/scan', LaserScan, callback_laser)"
   ]
  },
  {
   "cell_type": "code",
   "execution_count": null,
   "id": "b0555884",
   "metadata": {},
   "outputs": [],
   "source": [
    "visualize_goals = Goal_Visualizer()\n",
    "results = rospy.Subscriber('/reaching_goal/result', assignment_2_2022.msg.PlanningActionResult, visualize_goals.goal_callback)\n",
    "\n",
    "animation_goal = FuncAnimation(visualize_goals.fig, visualize_goals.update_plot, interval = 1000)\n",
    "plt.show(block = True)"
   ]
  },
  {
   "cell_type": "code",
   "execution_count": null,
   "id": "ac71424e",
   "metadata": {},
   "outputs": [],
   "source": [
    "position_visualizer = Odom_Visualizer()\n",
    "sub = rospy.Subscriber('/odom', Odometry, position_visualizer.odom_callback)\n",
    "\n",
    "animation_pos = FuncAnimation(position_visualizer.fig_odom, position_visualizer.update_plot, init_func = position_visualizer.plot_init)\n",
    "plt.show(block = True)"
   ]
  },
  {
   "cell_type": "code",
   "execution_count": null,
   "id": "1e20ad16",
   "metadata": {},
   "outputs": [],
   "source": [
    "laser_visualizer = Laser_Visualizer()\n",
    "sub = rospy.Subscriber('/scan', LaserScan, laser_visualizer.laser_callback)\n",
    "\n",
    "animation_laser = FuncAnimation(laser_visualizer.fig, laser_visualizer.update_plot, init_func = laser_visualizer.plot_init)\n",
    "plt.show(block = True)"
   ]
  },
  {
   "cell_type": "code",
   "execution_count": null,
   "id": "4a77ddec",
   "metadata": {},
   "outputs": [],
   "source": []
  }
 ],
 "metadata": {
  "kernelspec": {
   "display_name": "Python 3 (ipykernel)",
   "language": "python",
   "name": "python3"
  },
  "language_info": {
   "codemirror_mode": {
    "name": "ipython",
    "version": 3
   },
   "file_extension": ".py",
   "mimetype": "text/x-python",
   "name": "python",
   "nbconvert_exporter": "python",
   "pygments_lexer": "ipython3",
   "version": "3.8.5"
  }
 },
 "nbformat": 4,
 "nbformat_minor": 5
}
