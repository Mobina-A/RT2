{
 "cells": [
  {
   "cell_type": "code",
   "execution_count": null,
   "metadata": {},
   "outputs": [],
   "source": [
    "import jupyros as jr\n",
    "import rospy\n",
    "import os\n",
    "import actionlib\n",
    "import actionlib.msg\n",
    "import assignment_2_2023.msg\n",
    "import numpy as np\n",
    "import ipywidgets as widgets\n",
    "import matplotlib.pyplot as plt\n",
    "\n",
    "from std_srvs.srv import *\n",
    "from geometry_msgs.msg import Point, Pose, Twist\n",
    "from nav_msgs.msg import Odometry\n",
    "from assignment_2_2023.msg import pos_vel\n",
    "#from sensor_msgs.msg import LaserScan\n",
    "from matplotlib.animation import FuncAnimation"
   ]
  },
  {
   "cell_type": "code",
   "execution_count": null,
   "metadata": {},
   "outputs": [],
   "source": [
    "#define parameters\n",
    "#target_reached = 0\n",
    "#target_cancelled = 0 \n",
    "#cancelled = False \n",
    "#target = None\n",
    "my_data = pos_vel()"
   ]
  },
  {
   "cell_type": "code",
   "execution_count": null,
   "metadata": {},
   "outputs": [],
   "source": [
    "def callback(data):\n",
    "   \n",
    "    global pub\n",
    "    # Create a custom message for having the location and velocities my_data = pos_vel()\n",
    "    # Use the message to set the robot position and linear velocity\n",
    "    my_data.x = data.pose.pose.position.x\n",
    "    my_data.y = data.pose.pose.position.y\n",
    "    my_data.vel_x = data.twist.twist.linear.x\n",
    "    my_data.vel_z = data.twist.twist.linear.z\n",
    "    # Publish the message\n",
    "    pub.publish(my_data)\n"
   ]
  },
  {
   "cell_type": "code",
   "execution_count": null,
   "metadata": {},
   "outputs": [],
   "source": [
    "#Creating button state\n",
    "set_target_button = widgets.Button(value=False, description=\"Set Target\",\n",
    "                                   disabled=False, button_style='')\n",
    "cancel_target_button = widgets.Button(value=False, description=\"Cancel Target\",\n",
    "                                     disabled=False, button_style='')"
   ]
  },
  {
   "cell_type": "code",
   "execution_count": null,
   "metadata": {},
   "outputs": [],
   "source": [
    "#Convert button input\n",
    "x = widgets.BoundedFloatText(value=0.0, description='x', min=-9.0, max=9.0,\n",
    "                              style={'description_width': 'initial'}, step=0.1,\n",
    "                              layout=widgets.Layout(width='100px'))\n",
    "y = widgets.BoundedFloatText(value=0.0, description='y', min=-9.0, max=9.0,\n",
    "                              style={'description_width': 'initial'}, step=0.1,\n",
    "                              layout=widgets.Layout(width='100px'))\n"
   ]
  },
  {
   "cell_type": "code",
   "execution_count": null,
   "metadata": {},
   "outputs": [],
   "source": [
    "def callback_dis(msg):\n",
    "    global last_dis\n",
    "    initial_loc = len(msg.ranges) // 2 - (len(msg.ranges) // 4)\n",
    "    end_loc = len(msg.ranges) // 2 + (len(msg.ranges) // 4)\n",
    "    ranges = msg.ranges[initial_loc:end_loc]\n",
    "    min_dis = min(ranges)\n"
   ]
  },
  {
   "cell_type": "code",
   "execution_count": null,
   "metadata": {},
   "outputs": [],
   "source": [
    "def callback_Target(msg):\n",
    "    global cancelled, target\n",
    "    #target = assignment_2_2023.msg.PlanningGoal()\n",
    "    #trget.target_pose.pose.position.x = x.value\n",
    "    #target.target_pose.pose.position.y = y.value\n",
    "    cancelled = False\n",
    "    #client.send_goal(target)"
   ]
  }
 ],
 "metadata": {
  "language_info": {
   "name": "python"
  }
 },
 "nbformat": 4,
 "nbformat_minor": 2
}
